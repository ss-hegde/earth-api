{
 "cells": [
  {
   "cell_type": "code",
   "execution_count": null,
   "id": "b70cb53c",
   "metadata": {},
   "outputs": [],
   "source": [
    "import sys\n",
    "import os\n",
    "\n",
    "# Get the path of the project root directory \n",
    "# Assumes you are running jupyter lab from inside the 'earth-intelligence-platform' directory\n",
    "project_root = os.path.abspath(os.path.join(os.getcwd(), '..'))\n",
    "\n",
    "# Add the project root to the system path so Python can find 'eintelligence'\n",
    "if project_root not in sys.path:\n",
    "    sys.path.append(project_root)\n",
    "    \n",
    "print(f\"Project root added to path: {project_root}\")"
   ]
  },
  {
   "cell_type": "code",
   "execution_count": null,
   "id": "eb292074",
   "metadata": {},
   "outputs": [],
   "source": [
    "import matplotlib.pyplot as plt\n",
    "from datetime import date\n",
    "from pathlib import Path\n",
    "\n",
    "from eintelligence.data_prep.fetch import get_sentinel2_data, load_sentinel2_bands, calculate_ndvi\n",
    "from eintelligence.data_prep.save import save_multiband_to_geotiff\n",
    "from eintelligence.data_prep.tiling import tile_to_cog"
   ]
  },
  {
   "cell_type": "code",
   "execution_count": null,
   "id": "d522dd9b",
   "metadata": {},
   "outputs": [],
   "source": [
    "TEST_LAT, TEST_LON = 36.5, -120.5 # Central California\n",
    "START_DATE = date(2023, 7, 1)\n",
    "END_DATE = date(2023, 8, 1)\n",
    "BANDS = (\"B02\",\"B03\",\"B04\",\"B08\") \n",
    "\n",
    "# find the best scene\n",
    "item = get_sentinel2_data(TEST_LAT, TEST_LON, START_DATE, END_DATE)"
   ]
  },
  {
   "cell_type": "code",
   "execution_count": null,
   "id": "edc414cd",
   "metadata": {},
   "outputs": [],
   "source": [
    "# tiling \n",
    "\n",
    "scene_id = item.id.replace(\":\", \"_\")\n",
    "tiles_dir = Path(project_root) / \"data\" / scene_id / \"tiles_s2\"\n",
    "tiles_dir.mkdir(parents=True, exist_ok=True)\n",
    "\n",
    "from eintelligence.data_prep.tiler_streaming import tile_stac_item_to_cogs\n",
    "manifest_path = tile_stac_item_to_cogs(\n",
    "    item,\n",
    "    bands=BANDS,\n",
    "    out_dir=tiles_dir,\n",
    "    tile_size=512,\n",
    "    stride=256,          # overlap if you’ll train CNNs\n",
    "    min_valid_fraction=0.3,\n",
    "    web_optimized=True,  # False if you want lossless DEFLATE tiles\n",
    ")\n",
    "print(\"Manifest:\", manifest_path)"
   ]
  }
 ],
 "metadata": {
  "kernelspec": {
   "display_name": ".venv",
   "language": "python",
   "name": "python3"
  },
  "language_info": {
   "codemirror_mode": {
    "name": "ipython",
    "version": 3
   },
   "file_extension": ".py",
   "mimetype": "text/x-python",
   "name": "python",
   "nbconvert_exporter": "python",
   "pygments_lexer": "ipython3",
   "version": "3.11.0"
  }
 },
 "nbformat": 4,
 "nbformat_minor": 5
}
