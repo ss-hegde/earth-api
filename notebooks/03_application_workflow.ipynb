{
 "cells": [
  {
   "cell_type": "code",
   "execution_count": 1,
   "id": "4c599725",
   "metadata": {},
   "outputs": [],
   "source": [
    "from pathlib import Path\n",
    "from datetime import date\n",
    "import json\n",
    "\n",
    "from shapely.geometry import box, mapping\n"
   ]
  },
  {
   "cell_type": "code",
   "execution_count": 2,
   "id": "19a410e3",
   "metadata": {},
   "outputs": [
    {
     "name": "stdout",
     "output_type": "stream",
     "text": [
      "Project root added to path: /home/hegde/code/earth-api\n"
     ]
    }
   ],
   "source": [
    "import sys\n",
    "import os\n",
    "\n",
    "# Get the path of the project root directory \n",
    "# Assumes you are running jupyter lab from inside the 'earth-intelligence-platform' directory\n",
    "project_root = os.path.abspath(os.path.join(os.getcwd(), '..'))\n",
    "\n",
    "# Add the project root to the system path so Python can find 'eintelligence'\n",
    "if project_root not in sys.path:\n",
    "    sys.path.append(project_root)\n",
    "    \n",
    "print(f\"Project root added to path: {project_root}\")"
   ]
  },
  {
   "cell_type": "code",
   "execution_count": null,
   "id": "fc39022e",
   "metadata": {},
   "outputs": [
    {
     "name": "stderr",
     "output_type": "stream",
     "text": [
      "/home/hegde/code/earth-api/.venv/lib/python3.11/site-packages/tqdm/auto.py:21: TqdmWarning: IProgress not found. Please update jupyter and ipywidgets. See https://ipywidgets.readthedocs.io/en/stable/user_install.html\n",
      "  from .autonotebook import tqdm as notebook_tqdm\n"
     ]
    },
    {
     "name": "stdout",
     "output_type": "stream",
     "text": [
      "((-120.64571141725517, 36.253876631735636), (-120.64300137551535, 36.34395516181293))\n"
     ]
    }
   ],
   "source": [
    "from eintelligence.data_prep.aoi import square_aoi\n",
    "from orchestrator.workflow_manager import (\n",
    "    DeforestationWorkflow, FloodWorkflow, TilingConfig, TrainingConfig\n",
    ")\n",
    "\n",
    "# central california\n",
    "aoi = square_aoi(36.3, -120.7)\n",
    "print(aoi[\"geometry\"][\"coordinates\"][0][:2])  # check polygon corners\n",
    "\n",
    "# munich, germany\n",
    "# aoi = square_aoi(48.1351, 11.5820)\n",
    "# print(aoi[\"geometry\"][\"coordinates\"][0][:2])  # check polygon corners"
   ]
  },
  {
   "cell_type": "code",
   "execution_count": 4,
   "id": "8ada0205",
   "metadata": {},
   "outputs": [],
   "source": [
    "# aoi_geom = mapping(box(-120.7, 36.3, -120.3, 36.7))  # (minx, miny, maxx, maxy)\n",
    "# aoi_geojson = {\"type\": \"Feature\", \"geometry\": aoi_geom, \"properties\": {}}\n"
   ]
  },
  {
   "cell_type": "code",
   "execution_count": 5,
   "id": "9d9ace2b",
   "metadata": {},
   "outputs": [],
   "source": [
    "tiling_cfg = TilingConfig(bands_s2=(\"B02\",\"B03\",\"B04\",\"B08\"), tile_size=512, stride=256, max_cloud=20)\n",
    "train_cfg  = TrainingConfig(batch_size=8, num_epochs=10, amp=True)"
   ]
  },
  {
   "cell_type": "code",
   "execution_count": 6,
   "id": "e5b54704",
   "metadata": {},
   "outputs": [
    {
     "name": "stdout",
     "output_type": "stream",
     "text": [
      "Skipping to temporal pairing using existing tiled data...\n",
      "pairs manifest: /home/hegde/code/earth-api/data/central_ca/pairs_manifest.json\n"
     ]
    },
    {
     "name": "stderr",
     "output_type": "stream",
     "text": [
      "/home/hegde/code/earth-api/orchestrator/workflow_manager.py:116: FutureWarning: `torch.cuda.amp.GradScaler(args...)` is deprecated. Please use `torch.amp.GradScaler('cuda', args...)` instead.\n",
      "  self.scaler = torch.cuda.amp.GradScaler(enabled=(device.type == \"cuda\" and cfg.amp))\n"
     ]
    }
   ],
   "source": [
    "defor = DeforestationWorkflow(project_root, tiling_cfg, train_cfg, skip_to_pairing=True)\n",
    "\n",
    "pairs_manifest = defor.build_data(\n",
    "    aoi_geojson=aoi,\n",
    "    start=\"2023-06-01\",\n",
    "    end=\"2023-09-01\",\n",
    "    region_name=\"central_ca\"\n",
    ")"
   ]
  },
  {
   "cell_type": "code",
   "execution_count": 7,
   "id": "9ce6a676",
   "metadata": {},
   "outputs": [
    {
     "name": "stdout",
     "output_type": "stream",
     "text": [
      "Using existing checkpoint: /home/hegde/code/earth-api/models/deforestation_resnet18.pt, skipping training.\n"
     ]
    },
    {
     "name": "stderr",
     "output_type": "stream",
     "text": [
      "/home/hegde/code/earth-api/orchestrator/workflow_manager.py:284: FutureWarning: `torch.cuda.amp.autocast(args...)` is deprecated. Please use `torch.amp.autocast('cuda', args...)` instead.\n",
      "  with torch.no_grad(), autocast(enabled=(device.type==\"cuda\")):\n"
     ]
    },
    {
     "name": "stdout",
     "output_type": "stream",
     "text": [
      "wrote 16 deforestation mask tiles -> /home/hegde/code/earth-api/data/central_ca/pred_deforestation\n"
     ]
    }
   ],
   "source": [
    "ckpt_path = Path(project_root) / \"models\" / \"deforestation_resnet18.pt\"\n",
    "out_dir = Path(project_root) / \"data\" / \"central_ca\" / \"pred_deforestation\"\n",
    "\n",
    "defor.run_deforestation_workflow(pairs_manifest, ckpt_path, out_dir, retrain=False)\n",
    "\n"
   ]
  }
 ],
 "metadata": {
  "kernelspec": {
   "display_name": ".venv",
   "language": "python",
   "name": "python3"
  },
  "language_info": {
   "codemirror_mode": {
    "name": "ipython",
    "version": 3
   },
   "file_extension": ".py",
   "mimetype": "text/x-python",
   "name": "python",
   "nbconvert_exporter": "python",
   "pygments_lexer": "ipython3",
   "version": "3.11.0"
  }
 },
 "nbformat": 4,
 "nbformat_minor": 5
}
